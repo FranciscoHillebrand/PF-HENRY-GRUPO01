{
 "cells": [
  {
   "cell_type": "code",
   "execution_count": 54,
   "id": "65296955",
   "metadata": {},
   "outputs": [],
   "source": [
    "#Importo las librerías necesarias\n",
    "import pandas as pd"
   ]
  },
  {
   "cell_type": "code",
   "execution_count": 55,
   "id": "32a5c581",
   "metadata": {},
   "outputs": [
    {
     "name": "stdout",
     "output_type": "stream",
     "text": [
      "Cargando archivo original...\n",
      "Datos cargados. Se encontraron 16873 filas.\n"
     ]
    }
   ],
   "source": [
    "#Cargo el dataset de lesiones de 1951-2023\n",
    "print(f\"Cargando archivo original...\")\n",
    "try:\n",
    "    df_hasta_2023 = pd.read_csv(\"C:\\\\Users\\\\FranciscoJH\\\\Downloads\\\\NBA Player Injury Stats(1951 - 2023).csv\")\n",
    "except FileNotFoundError:\n",
    "    print(f\"Error: No se encontró el archivo 'C:\\\\Users\\\\FranciscoJH\\\\Downloads\\\\NBA Player Injury Stats(1951 - 2023).csv'. Asegúrate de que esté en la misma carpeta.\")\n",
    "    exit()\n",
    "\n",
    "print(f\"Datos cargados. Se encontraron {len(df)} filas.\")"
   ]
  },
  {
   "cell_type": "code",
   "execution_count": 56,
   "id": "a7c68c88",
   "metadata": {},
   "outputs": [
    {
     "name": "stdout",
     "output_type": "stream",
     "text": [
      "Convirtiendo la columna 'Date' a formato de fecha...\n"
     ]
    }
   ],
   "source": [
    "# Conversión de Fecha\n",
    "# Nos aseguramos de que la columna 'Date' sea de tipo fecha\n",
    "columna_fecha = 'Date'\n",
    "# 'errors=coerce' convertirá cualquier fecha rota en 'NaT' (Not a Time)\n",
    "print(f\"Convirtiendo la columna '{columna_fecha}' a formato de fecha...\")\n",
    "df_hasta_2023[columna_fecha] = pd.to_datetime(df_hasta_2023[columna_fecha], errors='coerce')"
   ]
  },
  {
   "cell_type": "code",
   "execution_count": 57,
   "id": "3224b3bb",
   "metadata": {},
   "outputs": [],
   "source": [
    "# Eliminamos filas donde la fecha no se pudo leer\n",
    "df_hasta_2023.dropna(subset=[columna_fecha], inplace=True)"
   ]
  },
  {
   "cell_type": "code",
   "execution_count": 58,
   "id": "889e6300",
   "metadata": {},
   "outputs": [
    {
     "name": "stdout",
     "output_type": "stream",
     "text": [
      "Filtrando datos entre 2010 y 2023...\n"
     ]
    }
   ],
   "source": [
    "# Extraemos el año de la fecha y filtramos\n",
    "print(\"Filtrando datos entre 2010 y 2023...\")\n",
    "df_filtrado_hasta_2023 = df_hasta_2023[(df_hasta_2023[columna_fecha].dt.year >= 2010) & (df_hasta_2023[columna_fecha].dt.year <= 2023)]\n",
    "#Además elimino la primer columna que almacena el ID del registro, ya que el dataset de lesiones de 2016-2025 no la tiene\n",
    "df_filtrado_hasta_2023 = df_filtrado_hasta_2023.iloc[:, 1:]"
   ]
  },
  {
   "cell_type": "code",
   "execution_count": 59,
   "id": "ce5daaef",
   "metadata": {},
   "outputs": [
    {
     "name": "stdout",
     "output_type": "stream",
     "text": [
      "Filtrado completo. Se encontraron 22998 filas.\n"
     ]
    }
   ],
   "source": [
    "#Guardo el dataset filtrado\n",
    "print(f\"Filtrado completo. Se encontraron {len(df_filtrado_hasta_2023)} filas.\")\n",
    "df_filtrado_hasta_2023.to_csv(\"C:\\\\Users\\\\FranciscoJH\\\\Downloads\\\\NBA_Player_Injury_Stats_Filtrado_2023.csv\", index=False)"
   ]
  },
  {
   "cell_type": "code",
   "execution_count": 60,
   "id": "aa5db650",
   "metadata": {},
   "outputs": [
    {
     "name": "stdout",
     "output_type": "stream",
     "text": [
      "Cargando archivo original...\n",
      "Datos cargados. Se encontraron 16873 filas.\n"
     ]
    }
   ],
   "source": [
    "#Ahora cargo el dataset de lesiones de 2016-2025\n",
    "print(f\"Cargando archivo original...\")\n",
    "try:\n",
    "    df_hasta_2025 = pd.read_csv(\"C:\\\\Users\\\\FranciscoJH\\\\Downloads\\\\injury_data.csv\")\n",
    "except FileNotFoundError:\n",
    "    print(f\"Error: No se encontró el archivo 'C:\\\\Users\\\\FranciscoJH\\\\Downloads\\\\injury_data.csv'. Asegúrate de que esté en la misma carpeta.\")\n",
    "    exit()\n",
    "\n",
    "print(f\"Datos cargados. Se encontraron {len(df_hasta_2025)} filas.\")"
   ]
  },
  {
   "cell_type": "code",
   "execution_count": 61,
   "id": "b220cfb7",
   "metadata": {},
   "outputs": [
    {
     "name": "stdout",
     "output_type": "stream",
     "text": [
      "Convirtiendo la columna 'Date' a formato de fecha...\n"
     ]
    }
   ],
   "source": [
    "# Conversión de Fecha\n",
    "# Nos aseguramos de que la columna 'Date' sea de tipo fecha\n",
    "columna_fecha = 'Date'\n",
    "# 'errors=coerce' convertirá cualquier fecha rota en 'NaT' (Not a Time)\n",
    "print(f\"Convirtiendo la columna '{columna_fecha}' a formato de fecha...\")\n",
    "df_hasta_2025[columna_fecha] = pd.to_datetime(df_hasta_2025[columna_fecha], errors='coerce')"
   ]
  },
  {
   "cell_type": "code",
   "execution_count": 62,
   "id": "181e6943",
   "metadata": {},
   "outputs": [],
   "source": [
    "# Eliminamos filas donde la fecha no se pudo leer\n",
    "df_hasta_2025.dropna(subset=[columna_fecha], inplace=True)"
   ]
  },
  {
   "cell_type": "code",
   "execution_count": 63,
   "id": "472d066f",
   "metadata": {},
   "outputs": [
    {
     "name": "stdout",
     "output_type": "stream",
     "text": [
      "Filtrando datos entre 2023 y 2025...\n"
     ]
    }
   ],
   "source": [
    "# Extraemos el año de la fecha y filtramos\n",
    "print(\"Filtrando datos entre 2023 y 2025...\")\n",
    "df_filtrado_hasta_2025 = df_hasta_2025[(df_hasta_2025[columna_fecha].dt.year >= 2023) & (df_hasta_2025[columna_fecha].dt.year <= 2025)]"
   ]
  },
  {
   "cell_type": "code",
   "execution_count": 64,
   "id": "118f0f2c",
   "metadata": {},
   "outputs": [
    {
     "name": "stdout",
     "output_type": "stream",
     "text": [
      "Filtrado completo. Se encontraron 3955 filas.\n"
     ]
    }
   ],
   "source": [
    "#Guardo el dataset filtrado\n",
    "print(f\"Filtrado completo. Se encontraron {len(df_filtrado_hasta_2025)} filas.\")\n",
    "df_filtrado_hasta_2025.to_csv(\"C:\\\\Users\\\\FranciscoJH\\\\Downloads\\\\NBA_Player_Injury_Stats_Filtrado_2025.csv\", index=False)"
   ]
  },
  {
   "cell_type": "code",
   "execution_count": 65,
   "id": "2d1d08f5",
   "metadata": {},
   "outputs": [
    {
     "name": "stdout",
     "output_type": "stream",
     "text": [
      "¡Éxito! Archivo final guardado en 'C:\\Users\\FranciscoJH\\Downloads\\NBA_Player_Injury_Stats_2010_2025.csv'\n"
     ]
    }
   ],
   "source": [
    "#Ahora juntos los dos datasets\n",
    "df_total = pd.concat([df_filtrado_hasta_2023, df_filtrado_hasta_2025], ignore_index=True)\n",
    "\n",
    "#Elijo las columnas clave para eliminar los duplicados de año 2023\n",
    "columnas_clave = ['Date', 'Team', 'Acquired', 'Relinquished', 'Notes']\n",
    "\n",
    "#Elimino duplicados basándome en las columnas clave\n",
    "#'keep=' controla cuál duplicado se queda:\n",
    "#'last':  Se queda con el último registro de los duplicados que ve.\n",
    "lesiones_csv = df_total.drop_duplicates(subset=columnas_clave, keep='last')\n",
    "\n",
    "#Guardo el dataset final\n",
    "lesiones_csv.to_csv(\"C:\\\\Users\\\\FranciscoJH\\\\Downloads\\\\NBA_Player_Injury_Stats_2010_2025.csv\", index=False)\n",
    "print(f\"¡Éxito! Archivo final guardado en 'C:\\\\Users\\\\FranciscoJH\\\\Downloads\\\\NBA_Player_Injury_Stats_2010_2025.csv'\")"
   ]
  }
 ],
 "metadata": {
  "kernelspec": {
   "display_name": "Python 3",
   "language": "python",
   "name": "python3"
  },
  "language_info": {
   "codemirror_mode": {
    "name": "ipython",
    "version": 3
   },
   "file_extension": ".py",
   "mimetype": "text/x-python",
   "name": "python",
   "nbconvert_exporter": "python",
   "pygments_lexer": "ipython3",
   "version": "3.13.9"
  }
 },
 "nbformat": 4,
 "nbformat_minor": 5
}
